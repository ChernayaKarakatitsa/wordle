{
 "cells": [
  {
   "cell_type": "code",
   "execution_count": 3,
   "metadata": {},
   "outputs": [],
   "source": [
    "import numpy as np\n",
    "import random\n",
    "import os"
   ]
  },
  {
   "cell_type": "code",
   "execution_count": 6,
   "metadata": {},
   "outputs": [],
   "source": [
    "def wordle():\n",
    "\n",
    "    #Opening a txt file with the english dictionary, turning it into a numpy array\n",
    "    filepath = os.getcwd()+\"\\sgb-words.txt\"\n",
    "    wordlistFile = open(filepath)\n",
    "    fiveLetterWords = np.array(wordlistFile.readlines())\n",
    "    \n",
    "    #wordToday chooses a random five letter word. That is today's word\n",
    "    wordToday = random.choice(fiveLetterWords)\n",
    "\n",
    "    #Initiating a counter that will keep track of how many times the user has guessed\n",
    "    counter = 0\n",
    "\n",
    "    #Printing nice things that people like to read when they start a game\n",
    "    print(\"Welcome to Wordle! Here's how to play:\",flush=True)\n",
    "    print(\"------------\",flush=True)\n",
    "    print(\"0: This letter does not match. (grey)\",flush=True)\n",
    "    print(\"?: This letter exists somewhere in the word, but not here. (yellow)\",flush=True)\n",
    "    print(\"!: This letter is in the correct spot. (green)\",flush=True)\n",
    "    print(\"------------\",flush=True)\n",
    "    print(\"Enter a five-letter guess as an input during your turn.\",flush=True)\n",
    "    print(\"------------\",flush=True)\n",
    "    print(\"Type 'end' to stop playing\")\n",
    "    print(\"------------\",flush=True)\n",
    "\n",
    "    #Starting the while loop in which the majority of the game runs\n",
    "    while True:\n",
    "        \n",
    "        #This while loop initiates the input request at the beginning of each turn\n",
    "        while True:\n",
    "\n",
    "            #Your guess\n",
    "            guess = input()\n",
    "\n",
    "            #After the user types a guess, this checks if the guess is \"end\", which will stop the loop and then later stop the whole game\n",
    "            if guess == \"end\":\n",
    "                break\n",
    "\n",
    "            #Check if the user inputted a five-letter word. If not, tell the user about their mistake and prompt for an input again\n",
    "            if len(guess) != 5:\n",
    "                print(\"Please type a five-letter word\",flush=True)\n",
    "                print(\"------------\")\n",
    "            else:\n",
    "                break\n",
    "        \n",
    "        #Now, after checking one more time if the input is \"end\", the game will stop\n",
    "        if guess == \"end\":\n",
    "            break\n",
    "\n",
    "        #Initialize a status variable storing each letter's status. Initialized with all greens\n",
    "        status = np.array([\"0\",\"0\",\"0\",\"0\",\"0\"])\n",
    "\n",
    "        #Check the guess against today's word for imperfect matches\n",
    "        for n in range(5):\n",
    "            if wordToday.find(guess[n]) != -1:\n",
    "                status[n] = \"?\"\n",
    "\n",
    "        #Check the guess against today's word for perfect matches\n",
    "        for n in range(5):\n",
    "            if guess[n] == wordToday[n]:\n",
    "                status[n] = \"!\"\n",
    "\n",
    "        #Print the results of the user's guess\n",
    "        print(guess)\n",
    "        print(status[0]+status[1]+status[2]+status[3]+status[4],flush=True)\n",
    "        print(\"------------\")\n",
    "\n",
    "        #Add one to the guess counter\n",
    "        counter += 1\n",
    "        \n",
    "        #Check if the user inputted the correct word for today. If they did, say they won and end the program\n",
    "        if status[0] == \"!\" and status[1] == \"!\" and status[2] == \"!\" and status[3] == \"!\" and status[4] == \"!\" :\n",
    "            print(\"YOU WIN!!!\",flush=True)\n",
    "            print(\"--- Game made by Ziggy ---\")\n",
    "            break\n",
    "\n",
    "        #Check if the user has made six guesses. If they have, print the corresponding loss statements. This does not actuate if the user won on their last guess\n",
    "        if counter == 6:\n",
    "            print(\"YOU LOST :(\",flush=True)\n",
    "            print(\"The word was:\",flush=True)\n",
    "            print(wordToday,flush=True)\n",
    "            print(\"--- Game made by Ziggy ---\")\n",
    "            break"
   ]
  },
  {
   "cell_type": "code",
   "execution_count": 7,
   "metadata": {},
   "outputs": [
    {
     "name": "stdout",
     "output_type": "stream",
     "text": [
      "Welcome to Wordle! Here's how to play:\n",
      "------------\n",
      "0: This letter does not match. (grey)\n",
      "?: This letter exists somewhere in the word, but not here. (yellow)\n",
      "!: This letter is in the correct spot. (green)\n",
      "------------\n",
      "Enter a five-letter guess as an input during your turn.\n",
      "------------\n",
      "Type 'end' to stop playing\n",
      "------------\n"
     ]
    }
   ],
   "source": [
    "wordle()"
   ]
  }
 ],
 "metadata": {
  "kernelspec": {
   "display_name": "base",
   "language": "python",
   "name": "python3"
  },
  "language_info": {
   "codemirror_mode": {
    "name": "ipython",
    "version": 3
   },
   "file_extension": ".py",
   "mimetype": "text/x-python",
   "name": "python",
   "nbconvert_exporter": "python",
   "pygments_lexer": "ipython3",
   "version": "3.11.5"
  }
 },
 "nbformat": 4,
 "nbformat_minor": 2
}
